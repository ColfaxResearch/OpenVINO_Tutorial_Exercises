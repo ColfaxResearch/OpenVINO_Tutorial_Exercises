{
 "cells": [
  {
   "cell_type": "markdown",
   "metadata": {},
   "source": [
    "# Exercise 1: Simple Inference\n",
    "\n",
    "In this exercise, you will be running inference on a few images.\n",
    "The primary goal of the first exercise is to familiarize you with the workflow for inference.\n",
    "\n",
    "You will be creating a vehicle detection application where the model counts how many vehicles are found in an image. The image you will use is:\n",
    "\n",
    "<img src=\"cars_1900_first_frame.jpg\">\n",
    "\n",
    "There appears to be 9 vehicles in the image. Let's see how the computer vision models do.\n",
    "\n",
    "### Important! The quiz will ask you how many vehicles were detected in the last step.\n"
   ]
  },
  {
   "cell_type": "markdown",
   "metadata": {},
   "source": [
    "## Step 1: Running on the DevCloud\n",
    "\n",
    "In the exercises of this tutorial including this one, we will be taking a look at running inferences on a variety of devices like VPU and FPGA. \n",
    "In order to access these devices, we will be taking advatnage of the Intel DevCloud for Edge. \n",
    "This is a free cloud service from Intel Corporation where users get to try some of the newest edge devices from Intel. \n",
    "For more information as well as instructions to sign up for an account, visit [devcloud.intel.com](https://devcloud.intel.com). \n",
    "For the exercises in this tutorial you do not need to sign up for an accout on the DevCloud. \n",
    "We will just be sending your submission to the cloud to run inference.\n",
    "\n",
    "To run a workload on the DevCloud, we must submit a **job** to a job queue.\n",
    "A job consists of a bash script to run the workload, along with any auxillary file used in the workload.\n",
    "When submitting a job to a cloud, you can request a certail hardware resource such as VPU or FPGA. \n",
    "Then these files are sent over to the DevCloud, the bash script is run, and finally the result is made available to us.\n",
    "\n",
    "For this first step, we'll start by running a simple workload on the DevCloud. \n",
    "Using the `model_downloader.py`, let's get the list of available models for inference.\n",
    "The `model_downloader.py` is already available on the DevCloud, so for this we just need to create the bash script.\n",
    "In jupyter, cells beginning with `%%writefile myfile.txt` will dump the contents of the cell into a file, named `myfile.txt` in this case.\n",
    "So the next code cell creates a file `show_all_models.sh`.\n",
    "\n",
    "`show_all_models.sh` is currently set up to print the help menu of the `model_downloader.py`.\n",
    "Modify the following cell so that it displays the list of all the available models instead."
   ]
  },
  {
   "cell_type": "code",
   "execution_count": null,
   "metadata": {},
   "outputs": [],
   "source": [
    "%%writefile show_all_models.sh\n",
    "/opt/intel/openvino/deployment_tools/tools/model_downloader/downloader.py --help"
   ]
  },
  {
   "cell_type": "markdown",
   "metadata": {},
   "source": [
    "To submit this to the DevCloud we need to make a REST API call. \n",
    "However this part is beyond the scope of this tutorial.\n",
    "So we have provided the utility function `submitToDevCloud()` for submitting your job.\n",
    "This function will submit your job, and (by default) print the stdout and stderr.\n",
    "\n",
    "This function has two required arguments, and one optional argument.\n",
    "- script: String. Relative path to the bash script to run. Required.\n",
    "- node_type: String. Selects the node to request. Must be one of CPU, GPU, VPU, FPGA. Required.\n",
    "- script_args: List of strings. Arguments to pass to the bash script. Optional. Default is empty array.\n",
    "- files: List of strings. Specifies the auxillary files. Optional. Default is empty array.\n",
    "\n",
    "Run the following cell to submit `show_all_models.sh` to the job queue."
   ]
  },
  {
   "cell_type": "code",
   "execution_count": null,
   "metadata": {},
   "outputs": [],
   "source": [
    "from utils import submitToDevCloud\n",
    "submitToDevCloud(\"show_all_models.sh\", \"CPU\")"
   ]
  },
  {
   "cell_type": "markdown",
   "metadata": {},
   "source": [
    "That's it! You have just ran a workload on the DevCloud.\n",
    "\n",
    "## Step 2: Running Inference\n",
    "\n",
    "Next step is running the inference itself.\n",
    "This section will make use of the Inference Engine that we have covered. \n",
    "\n",
    "To run the workload on the DevCloud, we need to create two files. \n",
    "We a python script that will run the iunference using Inference Engine.\n",
    "Additionally, we need a shell script that will start this python file.\n",
    "Let's start with the python file, which we call `main.py`.\n",
    "\n",
    "The instructions for completing the file is broken into steps. \n",
    "In the cell, the parts that need to be modified is signified by `##! ... !##`\n",
    "The number in parenthesis shows the step in the instruction that this corresponds to.\n",
    "\n",
    "**You can click on the steps to get detailed instructions.**\n",
    "Follow the instructions to complete `main.py`. \n",
    "If you get stuck on any of the stps, refer to the slide deck from course 1 video 6."
   ]
  },
  {
   "cell_type": "markdown",
   "metadata": {},
   "source": [
    "<details>\n",
    "    <summary><b>(2.1)</b> Complete the <code>prepImage()</code> function by finding the NCHW values from the network.</summary>\n",
    "    \n",
    "The input image will be loaded using OpenCV, so several image processing steps needs to be done.\n",
    "First, it will have the wrong size. so the image must be reshaped using `cv2.resize()` function.\n",
    "Second, OpenCV loads an image in HWC format whereas the network expects an NCHW format. \n",
    "So the image must first be transposed using `transpose()` method of numpy arrays. \n",
    "Then the N dimention must be added using the `reshape()` method.\n",
    "\n",
    "As the preprocesisng is outside of the toolkit, they are already implemented for you.\n",
    "However it is missing the sizes for dimensions NCHW of the network input.\n",
    "\n",
    "Complete the `prepImage()` function by getting the values for `n`, `c`, `h` and `w` from the function input `net`.\n",
    "\n",
    "</details><br/>\n",
    "\n",
    "<details>\n",
    "    <summary><b>(2.2)</b> Create IENetwork models for <code>vehicle-detection-adas-0002</code>. Use the provided paths for the models.</summary>\n",
    "    \n",
    "The model `vehicle-detection-adas-0002` has already been downloaded for you. \n",
    "The constructor for `IENetwork` object takes the path to the two files as input.\n",
    "\n",
    "</details><br/>\n",
    "\n",
    "<details>\n",
    "    <summary><b>(2.3)</b> Preprocess the image with <code>prepImage()</code>.</summary>\n",
    "    \n",
    "Prepare the image for inference using the prepImage() function from earlier. Remember that this function outputs a modiified image, instead of doing the modification in place.\n",
    "\n",
    "</details><br/>\n",
    "\n",
    "<details>\n",
    "    <summary><b>(2.4)</b>  Create IECore and ExecutableNetwork objects.</summary>\n",
    "    \n",
    "Remember that you need to create IECore object first.\n",
    "\n",
    "ExecutableNetwork is created from the load_network() method of IECore object. The IENetwork should be the one created earlier, and the device should be the one in `device` variable. This variable is set by the commandline input to the main.py script.\n",
    "\n",
    "</details><br/>\n",
    "\n",
    "<details>\n",
    "    <summary><b>(2.5)</b>  Run synchronous inference.</summary>\n",
    "    \n",
    "Synchronous, or blocking, run is started with `infer()` method. Remember that for the `inputs` argument, you will need the name of the input layer so that you can input the image.\n",
    "\n",
    "</details><br/>\n",
    "\n",
    "<details>\n",
    "    <summary><b>(2.6)</b>  Get the output array and run <code>printCount()</code> to see how many vehicles were detected.</summary>\n",
    "    \n",
    "Remmber that the output is a dictionary, with output layer name as key and the result array as value. You will need the name of the output layer to get the output array.\n",
    "\n",
    "`printCount()` takes the output array and counts the number of vehicle locations with confidence greater than the `prob_threshold` argument (default 50%). \n",
    "\n",
    "A quick explanation of what `prinCount` does. `vehicle-detection-adas-0002` returns 100 potential regions where an object might be.\n",
    "For every potential object, the model assigns a probability that it is an object.\n",
    "So to find the vehicles in the image, you need to look for entries over a certain threshold probability.\n",
    "The function simply loops over the potential regions and counts the number of regions with confidence values greater than the `prob_threshold`.\n",
    "\n",
    "The model also provides bounding boxes for where the potential object is, and it returns an index to the detected object. \n",
    "Though not shown in this example, this information can be processed and placed on the original image.\n",
    "\n",
    "</details><br/>\n"
   ]
  },
  {
   "cell_type": "code",
   "execution_count": null,
   "metadata": {},
   "outputs": [],
   "source": [
    "%%writefile main.py\n",
    "import os\n",
    "import sys\n",
    "from openvino.inference_engine import IECore, IENetwork\n",
    "import cv2\n",
    "\n",
    "# Prepares image for imference\n",
    "# inputs:\n",
    "#     orig_image - numpy array containing the original, unprocessed image\n",
    "#     net        - IENetwork object\n",
    "# output: \n",
    "#     preprocessed image.\n",
    "def prepImage(orig_image, net):\n",
    "    \n",
    "    ##! (2.1) Find n, c, h, w from net !##\n",
    "\n",
    "    input_image = cv2.resize(orig_image, (w, h))\n",
    "    input_image = input_image.transpose((2, 0, 1))\n",
    "    input_image.reshape((n, c, h, w))\n",
    "    return input_image\n",
    "\n",
    "# Processes the result. Prints the number of detected vehices.\n",
    "# inputs:\n",
    "#    detected_obects - numpy array containing the ooutput of the model\n",
    "#    prob_threashold - Required probability for \"detection\"\n",
    "# output:\n",
    "#    numpy array of image wtth rectangles drawn around the vehicles.\n",
    "def printCount(detected_objects, prob_threshold=0.5):\n",
    "    detected_count = 0\n",
    "    for obj in detected_objects[0][0]:\n",
    "        # Draw only objects when probability more than specified threshold\n",
    "        if obj[2] > prob_threshold:\n",
    "            detected_count+=1    \n",
    "    print(\"{} vehicles detected.\".format(detected_count))\n",
    "\n",
    "# Getting the device as commandline argument\n",
    "device = sys.argv[1]\n",
    "    \n",
    "##! (2.2) create IENetwork object for vehicle-detection-adas-0002 !##\n",
    "xml_path=\"/data/intel/vehicle-detection-adas-0002/FP16-INT8/vehicle-detection-adas-0002.xml\"\n",
    "bin_path=\"/data/intel/vehicle-detection-adas-0002/FP16-INT8/vehicle-detection-adas-0002.bin\"\n",
    "\n",
    "\n",
    "image_path = \"cars_1900_first_frame.jpg\"\n",
    "original_image = cv2.imread(image_path)\n",
    "\n",
    "##! (2.3) Preprocess the image. !##\n",
    "\n",
    "##! (2.4) Create IECore and ExecutableNetwork object. Use the device variable for targetted device !##\n",
    "\n",
    "##! (2.5) Run synchronous inference. !##\n",
    "\n",
    "##! (2.6) Run printCount. Make sure you extracted the array result form the dictionary returned by infer(). !##\n",
    "\n"
   ]
  },
  {
   "cell_type": "markdown",
   "metadata": {},
   "source": [
    "Now that you have the python script, we need the bash script.\n",
    "This script is provided for you.\n",
    "Run the following cell to create `run.sh`."
   ]
  },
  {
   "cell_type": "code",
   "execution_count": null,
   "metadata": {},
   "outputs": [],
   "source": [
    "%%writefile run.sh\n",
    "DEVICE=$1\n",
    "source /opt/intel/openvino/bin/setupvars.sh\n",
    "python3 main.py $DEVICE"
   ]
  },
  {
   "cell_type": "markdown",
   "metadata": {},
   "source": [
    "One important note here is that the bash script takes in one argument (`$1` is the first positional argument in bash). \n",
    "This input is then passed on to the python script so that you can set the device argument.\n",
    "Inputs to the script is passed in using the `script_args` argument.\n",
    "\n",
    "Run the following cell to run the job on the CPU."
   ]
  },
  {
   "cell_type": "code",
   "execution_count": null,
   "metadata": {},
   "outputs": [],
   "source": [
    "from utils import submitToDevCloud\n",
    "submitToDevCloud(\"run.sh\", \"CPU\", script_args=[\"CPU\"], files=[\"cars_1900_first_frame.jpg\",\"main.py\"])"
   ]
  },
  {
   "cell_type": "markdown",
   "metadata": {},
   "source": [
    "Now run the following cell to run the job on the GPU. Note that this one will take noticeably longer. There is some on-the-fly compiling of OpenCL for GPU, which takes some time."
   ]
  },
  {
   "cell_type": "code",
   "execution_count": null,
   "metadata": {},
   "outputs": [],
   "source": [
    "from utils import submitToDevCloud\n",
    "submitToDevCloud(\"run.sh\", \"CPU\", script_args=[\"GPU\"], files=[\"cars_1900_first_frame.jpg\",\"main.py\"])"
   ]
  },
  {
   "cell_type": "markdown",
   "metadata": {},
   "source": [
    "\n",
    "Congratulations! You have successfully run the inference workload on a GPU and a CPU. \n",
    "\n",
    "## Step 4: Quiz question\n",
    "\n",
    "For the final step, let's try lowering the required confidence to 0.01 (e.g. 1%) and see how many vehicles are detected by the model. \n",
    "You will have to go back to the `main.py` cell, and add `prob_threshold` argument to `printCount` function.\n",
    "**The quiz will ask you how many vehicles were detected by the `vehicle-detection-adas-0002` with this setting.**"
   ]
  }
 ],
 "metadata": {
  "kernelspec": {
   "display_name": "Python 3 (Ubuntu)",
   "language": "python",
   "name": "c003-python_3"
  },
  "language_info": {
   "codemirror_mode": {
    "name": "ipython",
    "version": 3
   },
   "file_extension": ".py",
   "mimetype": "text/x-python",
   "name": "python",
   "nbconvert_exporter": "python",
   "pygments_lexer": "ipython3",
   "version": "3.6.9"
  },
  "toc": {
   "base_numbering": 1,
   "nav_menu": {},
   "number_sections": true,
   "sideBar": true,
   "skip_h1_title": false,
   "title_cell": "Table of Contents",
   "title_sidebar": "Table of Contents",
   "toc_cell": false,
   "toc_position": {
    "height": "calc(100% - 180px)",
    "left": "10px",
    "top": "150px",
    "width": "165px"
   },
   "toc_section_display": true,
   "toc_window_display": true
  }
 },
 "nbformat": 4,
 "nbformat_minor": 2
}
